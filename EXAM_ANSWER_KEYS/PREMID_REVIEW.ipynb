{
 "cells": [
  {
   "cell_type": "markdown",
   "id": "f4589a60",
   "metadata": {},
   "source": [
    "# Pre-Midterm Examination\n",
    "\n",
    "\"What do you want to be when you grow up?\" Asked the mole,<br>\n",
    "\"[To be] kind\" Answered the boy. <br><br>\n",
    "$\\to$ The Boy, the mole, the fox, and the Horse by Charlie Mackesy\n",
    "<br><br>\n",
    "\n",
    "#### Tips:\n",
    "- Reads the question slowly and carefully.<br>\n",
    "- Math is all about finding patterns.<br>\n",
    "- If your confused go back to the definition.<br>\n",
    "- Do not panic, if you think the first question is hard, have it parked, move to the next question, and then just go back to the parked questions once you have answer the rest."
   ]
  },
  {
   "cell_type": "markdown",
   "id": "39983d5f",
   "metadata": {},
   "source": [
    "# Set Theory\n",
    "\n",
    "1. For any universe $\\mathbb{U}$, and any sets $A$; where $B \\subseteq \\mathbb{U}$, what is the relationship between:\n",
    "$A \\subseteq B$, $A \\cap B$, $B^{C} \\subseteq A^{C}$, and $A \\cup B$? Can we say that all these statements are equivalent?\n",
    "<br>\n",
    "2. Simplify the following expression:\n",
    "$(((A \\cup B)\\cap C)^c \\cup B^c)^c$\n",
    "<br>\n",
    "3. In some books set symmetric difference is denoted by $\\Delta$. Show that $(A \\Delta B)^c$ = $A \\Delta B^c$\n",
    "<br>\n",
    "4. Let $D_n$ denoted the set of natural numbers that divide $n$ exactly, for example: <br>\n",
    "\\begin{equation}\n",
    "D_{60} = \\{1,2,3,4,5,6,10,12,15,20,30,60\\}\n",
    "\\end{equation}<br>\n",
    "Write down the sets of $D_{84}$, and also write down the sets for $D_{60}\\cap D_{84}$. Find a number $m$ such that $D_m = D_{60} \\cap D_{84}$.Hint: The pattern for solving the term divide $n$ exactly can be found by observing the sequence in $D_{60}$.\n",
    "<br>\n",
    "5. Given $(a,b) \\in A\\times \\emptyset$, what will be the result of $A\\times \\emptyset$?\n",
    "<br>\n",
    "6. Recall that when given the set $A \\subseteq B$ the difference is denoted as $B$ \\ $A$, defined to be the set of objects that are in set $B$ but not in set $A$. Given that $A \\subseteq B \\subseteq C$ draw a venn diagram to illustrate the statment:<br> <div style='text-align: center;'>$C$ \\ ($B$ \\ $A$) and ($C$ \\ $B$) \\ $A$.</div><br>\n",
    "7. Show that $A \\subseteq B$, is true for the following condition:\n",
    "$A = \\{0\\}, B = \\emptyset$ and $A = \\emptyset, B = \\{0\\}$<br><br><br>\n",
    "8. In a town 85% of the people speak Tamil, 40% speak English and 20% speak Hindi. Also 32% speak Tamil and English, 13% speak Tamil and Hindi and 10% speak English and Hindi, find the percentage of people who can speak all the three languages.<br>\n",
    "9. For any sets $A$,$B$,$C$, can we say that $A \\cap (B \\cup C) = (A \\cap B) \\cup C$ is always true? Show your solution.<br>\n",
    "10. Let there be four sets: $A,B,C,D$.Draw a four set diagram with the following conditions:<br>\n",
    "- $A \\cap B$ is true.<br>\n",
    "- $B \\cap C$ is true.<br>\n",
    "- $A \\cap C$ is true.<br>\n",
    "- $A \\cap B \\cap C$ is true.<br>\n",
    "- $D \\cap A = A_1$ is true.<br>\n",
    "- $D \\cap A = A_2$ is true.<br>\n",
    "- $D \\cap B = B_1$ is true.<br>\n",
    "- $D \\cap B = B_2$ is true.<br>\n",
    "- $D \\cap C = C_1$ is true.<br>\n",
    "- $D \\cap C = C_2$ is true.<br>\n",
    "- $A \\cap B \\cap D$ is true.<br>\n",
    "- $C \\cap B \\cap D$ is true.<br>\n",
    "- $C \\cap A \\cap D$ is true.<br>\n",
    "- $C \\cap A \\cap B \\cap D$ is true.<br>\n",
    "Lastly, shade the area $A \\backslash B \\backslash C \\backslash D$."
   ]
  },
  {
   "cell_type": "markdown",
   "id": "30c66802",
   "metadata": {},
   "source": [
    "Relations\n",
    "---\n",
    "1. Determine if the following statement is True or False.<br>\n",
    "Given a relation $R$ and $S$ on common a set $A$<br>\n",
    "a.) If $R$ and $S$ is reflexive, then $\\textbf{R} \\cup \\textbf{S}$ is also reflexive<br> \n",
    "b.) If $R$ and $S$ is reflexive, then $\\textbf{R} \\cap \\textbf{S}$ is also reflexive<br>\n",
    "c.) If $R$ is reflexive and $S$ is reflexive, then $\\textbf{S} \\cap \\textbf{R}^{-1}$ is also reflexive<br>\n",
    "d.) If $R$ and $S$ is reflexive, then $\\textbf{R} \\circ \\textbf{S}$ is also reflexive<br>\n",
    "e. If $R$ and $S$ is antisymmetric, then $\\textbf{R} \\cap \\textbf{S}$ is also antisymmetric<br>\n",
    "f. If $R$ and $S$ is antisymmetric, then $\\textbf{R} \\circ \\textbf{S}$ is also antisymmetric\n",
    "<br>\n",
    "2. Let $\\textbf{R}$ be the relation on $\\mathbb{N}$ if $xy=18$, and $xRy$, determine R, as a set of ordered pairs.\n",
    "<br>\n",
    "3. How many reflexive relations are there on a set with $n$ elements?<br>\n",
    "4. Suppose that four chairs labelled 1,2,3,4 are arranged around a circular table with equal spaces between them. A seating plan for four people A,B,C, D can be described such that person C seats on chair 1, person A sits on chair 2, person B sits on chair 3, and person D sits on chair 4. Two seating plans are related ($\\textbf{R}$) if one of them can be obtained from the other by moving everyone at the same number of places to the right. Show that the two seating plans have an equivalence relation.<br>\n",
    "4.  Let $A$ and $B$ be the set of all students and the set of all courses at a school, respectively. Suppose that $R_1$ consists of all ordered pairs $(a, b)$, where $a$ is a student who has taken course $b$, and $R_2$ consists of all ordered pairs $(a, b)$, where $a$ is a student who requires course $b$ to graduate. What are the relations:\n",
    "<br>\n",
    "a.) $R_1 \\cap R_2$.<br>\n",
    "b.) $R_1 \\cup R_2$<br>\n",
    "c.) $R_2 \\oplus R_2$<br>\n",
    "d.) $R_1 - R_2$<br>\n",
    "e.) $R_2 - R_1$<br>\n",
    "5. If \"element a is R-related to b\". Determine whether or not the following condition will result in a reflexive relation, symmetric relation, transitive relation or equivalence relation.<br>\n",
    "a. $a < b$ <br>\n",
    "b. $a+b$, resulting in an odd number. <br>\n",
    "c.  $ab=1$\n",
    "<br>\n",
    "6. Suppose that $R$ and $S$ are relations, and $R=S^{-1}$, can we also say that $S = R^{-1}$?, show your solution.\n",
    "<br>\n",
    "7. Let $R$ be a relation on set $A$, suppose $R$ is anti-symmetric can we also say that $R$ is irreflexive?, show your solution.\n",
    "<br>\n",
    "8. If $R = R^{-1}$, can we say that $R$ is antisymmetric?, show your solution.\n",
    "<br>\n",
    "9. If $R \\cap R^{-1} \\subseteq \\{(a,a):a \\in A \\}$, can we say that $R$ is symmetric? Show your solutions."
   ]
  },
  {
   "cell_type": "markdown",
   "id": "833e613d",
   "metadata": {},
   "source": [
    "\n",
    "\"Asking for help isn't giving up\", said the horse \"It's refusing to give up\". <br><br>\n",
    "$\\to$ The Boy, the mole, the fox, and the Horse by Charlie Mackesy\n",
    "<br><br>\n"
   ]
  }
 ],
 "metadata": {
  "kernelspec": {
   "display_name": "Python 3 (ipykernel)",
   "language": "python",
   "name": "python3"
  },
  "language_info": {
   "codemirror_mode": {
    "name": "ipython",
    "version": 3
   },
   "file_extension": ".py",
   "mimetype": "text/x-python",
   "name": "python",
   "nbconvert_exporter": "python",
   "pygments_lexer": "ipython3",
   "version": "3.8.16"
  }
 },
 "nbformat": 4,
 "nbformat_minor": 5
}
