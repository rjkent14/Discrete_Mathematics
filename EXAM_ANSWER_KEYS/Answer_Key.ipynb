{
 "cells": [
  {
   "cell_type": "markdown",
   "id": "fcd7d7db-655d-4945-be44-7b2e0fff378c",
   "metadata": {},
   "source": [
    "# Set Theory\n",
    "---"
   ]
  },
  {
   "cell_type": "markdown",
   "id": "0a138813-8449-4372-80cd-97576dad4777",
   "metadata": {},
   "source": [
    "1. Show that the following  sets $A=\\{0\\}$ and $B = \\emptyset$, and, $A = \\emptyset$, $B=\\{0\\}$, are equal under the condition $A \\subseteq B$.\n",
    "---\n",
    "Given: $A=\\{0\\}$ and $B = \\emptyset$, and, $A = \\emptyset$, $B=\\{0\\}$.<br><br>\n",
    "Problem: $A=\\{0\\}$ and $B = \\emptyset$, and, $A = \\emptyset$, $B=\\{0\\}$, are equal under the condition $A \\subseteq B$.<br><br>\n",
    "Solution:<br>\n",
    "For  $A=\\{0\\}$ and $B = \\emptyset$, we can see that set B is an empty set, indicating that is has no elements, while set A has one element which is 0, but $0 \\notin B$ therefore the statement is $A \\subseteq B$ false.\n",
    "\n",
    "For set $A = \\emptyset$, $B=\\{0\\}$, set A is an empty set while set B has one element which is 0. However by definition that an empty set is always a subset of every set, then the statement $A \\subseteq B$ is true.<br><br>\n",
    "\n",
    "$\\to$ <b>ANSWER:</b> In conclusion the two settings are not equal.\n"
   ]
  },
  {
   "cell_type": "markdown",
   "id": "5b779b48-f05f-4336-a005-0a77e22fdb54",
   "metadata": {},
   "source": [
    "2. Given the condition $(a,b) \\in A$x$\\emptyset$, show the result of the cross product $A$x$\\emptyset$\n",
    "---\n",
    "Given: $(a,b) \\in A$x$\\emptyset$<br><br>\n",
    "Problem: We need to show the result of the cross product $A$x$\\emptyset$<br><br>\n",
    "Solution:\n",
    "It is obvious from the given that $(a,b) \\in A$x$\\emptyset$. Note that $(a,b)$ are in the cross product $A$x$\\emptyset$. Therefore we can say that $A$x$\\emptyset \\neq \\emptyset$.<br><br>\n",
    "$\\to$ <b>ANSWER:</b> The result of $A$x$\\emptyset$ is any comination of $(a,b)$. Another possible answer to this is that  $(a,b) \\in A$x$\\emptyset \\neq \\emptyset$."
   ]
  },
  {
   "cell_type": "markdown",
   "id": "740d9e7e-c810-4d5e-b9db-143c0dc520b5",
   "metadata": {},
   "source": [
    "3. Let $D_n$ denoted the set of natural numbers that divide $n$ exactly, for example: (10 points)<br>\n",
    "\\begin{equation}\n",
    "D_{60} = \\{1,2,3,4,5,6,10,12,15,20,30,60\\}\n",
    "\\end{equation}<br>\n",
    "Write down the sets of $D_{84}$, and also write down the sets for $D_{60}\\cap D_{84}$. Find a number $m$ such that $D_m = D_{60} \\cap D_{84}$.\n",
    "\n",
    "---\n",
    "Given: \n",
    "<br>\n",
    "\\begin{equation}\n",
    "D_{60} = \\{1,2,3,4,5,6,10,12,15,20,30,60\\}\n",
    "\\end{equation}<br>\n",
    "where the sequence of $D_n$ divides exactly.<br>\n",
    "\n",
    "Problem:\n",
    "- Write down the sets of $D_{84}$\n",
    "- Write down the sets for $D_{60}\\cap D_{84}$.\n",
    "- Find a number $m$ such that $D_m = D_{60} \\cap D_{84}$.<br>\n",
    "\n",
    "Solution and Answer:<br>\n",
    "$\\to D_{84} = \\{1,2,3,4,6,7,12,14,21,28,42,84\\}$ <br>\n",
    "$\\to D_{60}\\cap D_{84} = \\{1,2,3,4,6,12\\}$ <br>\n",
    "$\\to D_{12} = \\{1,2,3,4,6,12\\}$ <br>\n",
    "<br><br>"
   ]
  },
  {
   "cell_type": "markdown",
   "id": "6822119c-b351-47b7-8df9-d90e2df0ba50",
   "metadata": {},
   "source": [
    "Relations\n",
    "---"
   ]
  },
  {
   "attachments": {},
   "cell_type": "markdown",
   "id": "75624adc-e03b-4846-89d9-8c8a5b94fd9f",
   "metadata": {},
   "source": [
    "1. If $R \\cap R^{-1} \\subseteq \\{(a,a):a \\in A \\}$, can we say that $R$ is symmetric?\n",
    "---\n",
    "Given: $R \\cap R^{-1} \\subseteq \\{(a,a):a \\in A \\}$<br>\n",
    "\n",
    "Problem: Given the relation is R symmetric?<br>\n",
    "\n",
    "Solution:<br>\n",
    "This problem can be solve by going back to the relation of symmetric relations, and antisymmetric relations.\n",
    "\n",
    "By definition a relation is symmetric $\\iff$ for any given set $A$, $aRb$ and $bRa$ for which $(a,b) \\in A$. Therefore the result of the cross product of A $A$x$A$ must also contain the ordered pairs which contains both $a$ and $b$, meaning $(a,b) \\in A$x$A$ and $(b,a) \\in A$x$A$.\n",
    "\n",
    "Now by definition, a relation is anti-symmetric if $aRb$ but $b\\cancel{R}a$ that means that $(a,b) \\in R$ but $(b,a) \\notin R$. Furthermore, a relation is also anti-symmetric if $aRb$ and $bRa$, meaning $(a,b) \\in R$ and $(b,a) \\in R$, but $b=a$,\n",
    "\n",
    "By this definition we can say that $R \\cap R^{-1} \\subseteq \\{(a,a):a \\in A \\}$<br> is not symmetric. <br>\n",
    "\n",
    "<b>Answer</b>: The relation cannot be symmetric because the interstion results in $aRb$ and $bRa$, indicating that $(a,b) \\in R$ and $(b,a) \\in R$, but $b=a$."
   ]
  },
  {
   "cell_type": "markdown",
   "id": "62d3d61c-6535-4df9-b6b2-cb3fe5cd7316",
   "metadata": {},
   "source": [
    "2. If $R = R^{-1}$, can we say that $R$ is antisymmetric?\n",
    "---\n",
    "Given: $R = R^{-1}$<br>\n",
    "\n",
    "Problem: Given the relations, is $R$ antisymmetric?<br>\n",
    "\n",
    "Solution:<br>\n",
    "By definition a relation is symmetric $\\iff$ for any given set $A$, $aRb$ and $bRa$ for which $(a,b) \\in A$. Therefore the result of the cross product of A $A$x$A$ must also contain the ordered pairs which contains both $a$ and $b$, meaning $(a,b) \\in A$x$A$ and $(b,a) \\in A$x$A$.\n",
    "\n",
    "Using the above definition,\n",
    "\n",
    "($\\Longrightarrow$)Supposing $R$ is antisymmetric. To show that $R = R^{-1}$, we need to prove that $R$ and $R^{-1}$ are the same. Suppose $(x,y) \\in R$, since $R$ is antisymmetric we can say that $(y,x) \\notin R$, this means that is we take the invers of the relation of $(y,x) \\notin R$, then we can say that $(x,y) \\notin R^{-1}$, by this argument we can say that $R \\neq R^{-1}$ if $R$ is anti-symmetric.\n",
    "\n",
    "Now Suppose $(x,y) \\in R^{-1}$, then taking the inverse of this relation will show that $(y,x) \\in R$ but because R is antisymmetric we can say that $(x,y) \\notin R$, again by this argument we can say that $R \\neq R^{-1}$ if $R$ is anti-symmetric.\n",
    "\n",
    "($\\Longleftarrow$) Now suppose we let $R$ be symmetric, then $(x,y) \\in R$ and at the same time $(y,x) \\in R$, taking the inverse relation of $(y,x) \\in R$ shows that $(x,y) \\in R^{-1}$. By this argument $R=R^{-1} \\iff$ $R$ is symmetric.\n",
    "\n",
    "<b>Answer:</b> $R$ cannot be anti-symmetric."
   ]
  },
  {
   "cell_type": "markdown",
   "id": "c93d709c-710c-4b18-92a4-2f90fd648658",
   "metadata": {},
   "source": [
    "3. Let $R$ be a relation on set $A$, suppose $R$ is anti-symmetric can we also say that $R$ is irreflexive?\n",
    "---\n",
    "Given: $R$ be a relation on set $A$\n",
    "\n",
    "Problem: suppose $R$ is anti-symmetric can we also say that $R$ is irreflexive?\n",
    "\n",
    "Solution:<br>\n",
    "To solve this problem we need to define what is an antisymmetric relation and an irreflexive relation.\n",
    "\n",
    "By definition, a relation is anti-symmetric if $aRb$ but $b\\cancel{R}a$ that means that $(a,b) \\in R$ but $(b,a) \\notin R$. Furthermore, a relation is also anti-symmetric if $aRb$ and $bRa$, meaning $(a,b) \\in R$ and $(b,a) \\in R$, but $b=a$, this will result in $aRa$, which is related to the definition of a reflexive relation which is obivously: $aRa$.\n",
    "\n",
    "By definition a relation is irreflexive $\\iff a\\cancel{R}a$.\n",
    "\n",
    "By looking at these definitions, we can say that $R$ can be antisymmetric but at the same time reflexive.\n",
    "\n",
    "<b>Answer:</b> No, $R$ can be antisymmetric but at the same time reflexive."
   ]
  },
  {
   "cell_type": "markdown",
   "id": "b4656893-0d32-4f02-938e-1e2738ab30e6",
   "metadata": {},
   "source": [
    "4. Suppose that $R$ and $S$ are relations, and $R=S^{-1}$, can we also say that $S = R^{-1}$?\n",
    "---\n",
    "Given:$R$ and $S$ are relations\n",
    "\n",
    "Problem: If $R=S^{-1}$, can we also say that $S = R^{-1}$? \n",
    "\n",
    "Solution:<br>\n",
    "We are given $R=S^{-1}$, and we need to show that $S = R^{-1}$.\n",
    "\n",
    "($\\Longrightarrow$) Suppose $(x,y) \\in S$, then we can say that $(y,x) \\in S^{-1}$. But because $R=S^{-1}$, then we can say that $(y,x) \\in R$, so that $(x,y) \\in R^{1}$ which tells us that $S = R^{-1}$.\n",
    "\n",
    "($\\Leftrightarrow$) Suppose $(x,y) \\in R^{-1}$, then we can say that $(y,x) \\in R$. But because $R=S^{-1}$, then we can say that $(y,x) \\in S^{-1}$, so that $(x,y) \\in S$ which tells us that $S = R^{-1}$.\n",
    "\n",
    "<b>Answer:</b> Yes, if $R=S^{-1}$, can we also say that $S = R^{-1}$."
   ]
  },
  {
   "cell_type": "markdown",
   "id": "dd84ebe0-f956-4b23-8c7c-3e41950b51ac",
   "metadata": {},
   "source": [
    "5. Let $\\textbf{R}$ be the relation on $\\mathbb{N}$ if $xy=18$, and $xRy$, determine $R$, as a set of ordered pairs.\n",
    "---\n",
    "Given:\n",
    "- $\\textbf{R}$ be the relation on $\\mathbb{N}$.\n",
    "-  $xy=18$\n",
    "-  $xRy$\n",
    "\n",
    "Problem: Determine $R$\n",
    "\n",
    "Solution:\n",
    "$R = {(1,18),(18,1),(2,9)(9,2)(3,6),(6,3)}$"
   ]
  }
 ],
 "metadata": {
  "kernelspec": {
   "display_name": "Python 3 (ipykernel)",
   "language": "python",
   "name": "python3"
  },
  "language_info": {
   "codemirror_mode": {
    "name": "ipython",
    "version": 3
   },
   "file_extension": ".py",
   "mimetype": "text/x-python",
   "name": "python",
   "nbconvert_exporter": "python",
   "pygments_lexer": "ipython3",
   "version": "3.8.16"
  }
 },
 "nbformat": 4,
 "nbformat_minor": 5
}
